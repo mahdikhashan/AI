{
  "nbformat": 4,
  "nbformat_minor": 0,
  "metadata": {
    "colab": {
      "provenance": [],
      "gpuType": "T4",
      "authorship_tag": "ABX9TyNTt7rtRbhT28uBXuJkzYHB",
      "include_colab_link": true
    },
    "kernelspec": {
      "name": "python3",
      "display_name": "Python 3"
    },
    "language_info": {
      "name": "python"
    },
    "accelerator": "GPU"
  },
  "cells": [
    {
      "cell_type": "markdown",
      "metadata": {
        "id": "view-in-github",
        "colab_type": "text"
      },
      "source": [
        "<a href=\"https://colab.research.google.com/github/mahdikhashan/AI/blob/main/cifar10.ipynb\" target=\"_parent\"><img src=\"https://colab.research.google.com/assets/colab-badge.svg\" alt=\"Open In Colab\"/></a>"
      ]
    },
    {
      "cell_type": "code",
      "execution_count": null,
      "metadata": {
        "id": "_MVBmCe2d2lC"
      },
      "outputs": [],
      "source": [
        "from keras.datasets import cifar10"
      ]
    },
    {
      "cell_type": "code",
      "source": [
        "(X_train, y_train), (X_test, y_test) = cifar10.load_data()"
      ],
      "metadata": {
        "id": "zXFtdZPReMP6"
      },
      "execution_count": null,
      "outputs": []
    },
    {
      "cell_type": "code",
      "source": [
        "X_train = X_train"
      ],
      "metadata": {
        "id": "L5g2BLUDeUka"
      },
      "execution_count": null,
      "outputs": []
    },
    {
      "cell_type": "code",
      "source": [
        "print(X_train)"
      ],
      "metadata": {
        "colab": {
          "base_uri": "https://localhost:8080/"
        },
        "id": "VGYDVkldebdc",
        "outputId": "c6396650-8ed8-4600-8273-c9ae3344e884"
      },
      "execution_count": null,
      "outputs": [
        {
          "output_type": "stream",
          "name": "stdout",
          "text": [
            "[[[[ 59  62  63]\n",
            "   [ 43  46  45]\n",
            "   [ 50  48  43]\n",
            "   ...\n",
            "   [158 132 108]\n",
            "   [152 125 102]\n",
            "   [148 124 103]]\n",
            "\n",
            "  [[ 16  20  20]\n",
            "   [  0   0   0]\n",
            "   [ 18   8   0]\n",
            "   ...\n",
            "   [123  88  55]\n",
            "   [119  83  50]\n",
            "   [122  87  57]]\n",
            "\n",
            "  [[ 25  24  21]\n",
            "   [ 16   7   0]\n",
            "   [ 49  27   8]\n",
            "   ...\n",
            "   [118  84  50]\n",
            "   [120  84  50]\n",
            "   [109  73  42]]\n",
            "\n",
            "  ...\n",
            "\n",
            "  [[208 170  96]\n",
            "   [201 153  34]\n",
            "   [198 161  26]\n",
            "   ...\n",
            "   [160 133  70]\n",
            "   [ 56  31   7]\n",
            "   [ 53  34  20]]\n",
            "\n",
            "  [[180 139  96]\n",
            "   [173 123  42]\n",
            "   [186 144  30]\n",
            "   ...\n",
            "   [184 148  94]\n",
            "   [ 97  62  34]\n",
            "   [ 83  53  34]]\n",
            "\n",
            "  [[177 144 116]\n",
            "   [168 129  94]\n",
            "   [179 142  87]\n",
            "   ...\n",
            "   [216 184 140]\n",
            "   [151 118  84]\n",
            "   [123  92  72]]]\n",
            "\n",
            "\n",
            " [[[154 177 187]\n",
            "   [126 137 136]\n",
            "   [105 104  95]\n",
            "   ...\n",
            "   [ 91  95  71]\n",
            "   [ 87  90  71]\n",
            "   [ 79  81  70]]\n",
            "\n",
            "  [[140 160 169]\n",
            "   [145 153 154]\n",
            "   [125 125 118]\n",
            "   ...\n",
            "   [ 96  99  78]\n",
            "   [ 77  80  62]\n",
            "   [ 71  73  61]]\n",
            "\n",
            "  [[140 155 164]\n",
            "   [139 146 149]\n",
            "   [115 115 112]\n",
            "   ...\n",
            "   [ 79  82  64]\n",
            "   [ 68  70  55]\n",
            "   [ 67  69  55]]\n",
            "\n",
            "  ...\n",
            "\n",
            "  [[175 167 166]\n",
            "   [156 154 160]\n",
            "   [154 160 170]\n",
            "   ...\n",
            "   [ 42  34  36]\n",
            "   [ 61  53  57]\n",
            "   [ 93  83  91]]\n",
            "\n",
            "  [[165 154 128]\n",
            "   [156 152 130]\n",
            "   [159 161 142]\n",
            "   ...\n",
            "   [103  93  96]\n",
            "   [123 114 120]\n",
            "   [131 121 131]]\n",
            "\n",
            "  [[163 148 120]\n",
            "   [158 148 122]\n",
            "   [163 156 133]\n",
            "   ...\n",
            "   [143 133 139]\n",
            "   [143 134 142]\n",
            "   [143 133 144]]]\n",
            "\n",
            "\n",
            " [[[255 255 255]\n",
            "   [253 253 253]\n",
            "   [253 253 253]\n",
            "   ...\n",
            "   [253 253 253]\n",
            "   [253 253 253]\n",
            "   [253 253 253]]\n",
            "\n",
            "  [[255 255 255]\n",
            "   [255 255 255]\n",
            "   [255 255 255]\n",
            "   ...\n",
            "   [255 255 255]\n",
            "   [255 255 255]\n",
            "   [255 255 255]]\n",
            "\n",
            "  [[255 255 255]\n",
            "   [254 254 254]\n",
            "   [254 254 254]\n",
            "   ...\n",
            "   [254 254 254]\n",
            "   [254 254 254]\n",
            "   [254 254 254]]\n",
            "\n",
            "  ...\n",
            "\n",
            "  [[113 120 112]\n",
            "   [111 118 111]\n",
            "   [105 112 106]\n",
            "   ...\n",
            "   [ 72  81  80]\n",
            "   [ 72  80  79]\n",
            "   [ 72  80  79]]\n",
            "\n",
            "  [[111 118 110]\n",
            "   [104 111 104]\n",
            "   [ 99 106  98]\n",
            "   ...\n",
            "   [ 68  75  73]\n",
            "   [ 70  76  75]\n",
            "   [ 78  84  82]]\n",
            "\n",
            "  [[106 113 105]\n",
            "   [ 99 106  98]\n",
            "   [ 95 102  94]\n",
            "   ...\n",
            "   [ 78  85  83]\n",
            "   [ 79  85  83]\n",
            "   [ 80  86  84]]]\n",
            "\n",
            "\n",
            " ...\n",
            "\n",
            "\n",
            " [[[ 35 178 235]\n",
            "   [ 40 176 239]\n",
            "   [ 42 176 241]\n",
            "   ...\n",
            "   [ 99 177 219]\n",
            "   [ 79 147 197]\n",
            "   [ 89 148 189]]\n",
            "\n",
            "  [[ 57 182 234]\n",
            "   [ 44 184 250]\n",
            "   [ 50 183 240]\n",
            "   ...\n",
            "   [156 182 200]\n",
            "   [141 177 206]\n",
            "   [116 149 175]]\n",
            "\n",
            "  [[ 98 197 237]\n",
            "   [ 64 189 252]\n",
            "   [ 69 192 245]\n",
            "   ...\n",
            "   [188 195 206]\n",
            "   [119 135 147]\n",
            "   [ 61  79  90]]\n",
            "\n",
            "  ...\n",
            "\n",
            "  [[ 73  79  77]\n",
            "   [ 53  63  68]\n",
            "   [ 54  68  80]\n",
            "   ...\n",
            "   [ 17  40  64]\n",
            "   [ 21  36  51]\n",
            "   [ 33  48  49]]\n",
            "\n",
            "  [[ 61  68  75]\n",
            "   [ 55  70  86]\n",
            "   [ 57  79 103]\n",
            "   ...\n",
            "   [ 24  48  72]\n",
            "   [ 17  35  53]\n",
            "   [  7  23  32]]\n",
            "\n",
            "  [[ 44  56  73]\n",
            "   [ 46  66  88]\n",
            "   [ 49  77 105]\n",
            "   ...\n",
            "   [ 27  52  77]\n",
            "   [ 21  43  66]\n",
            "   [ 12  31  50]]]\n",
            "\n",
            "\n",
            " [[[189 211 240]\n",
            "   [186 208 236]\n",
            "   [185 207 235]\n",
            "   ...\n",
            "   [175 195 224]\n",
            "   [172 194 222]\n",
            "   [169 194 220]]\n",
            "\n",
            "  [[194 210 239]\n",
            "   [191 207 236]\n",
            "   [190 206 235]\n",
            "   ...\n",
            "   [173 192 220]\n",
            "   [171 191 218]\n",
            "   [167 190 216]]\n",
            "\n",
            "  [[208 219 244]\n",
            "   [205 216 240]\n",
            "   [204 215 239]\n",
            "   ...\n",
            "   [175 191 217]\n",
            "   [172 190 216]\n",
            "   [169 191 215]]\n",
            "\n",
            "  ...\n",
            "\n",
            "  [[207 199 181]\n",
            "   [203 195 175]\n",
            "   [203 196 173]\n",
            "   ...\n",
            "   [135 132 127]\n",
            "   [162 158 150]\n",
            "   [168 163 151]]\n",
            "\n",
            "  [[198 190 170]\n",
            "   [189 181 159]\n",
            "   [180 172 147]\n",
            "   ...\n",
            "   [178 171 160]\n",
            "   [175 169 156]\n",
            "   [175 169 154]]\n",
            "\n",
            "  [[198 189 173]\n",
            "   [189 181 162]\n",
            "   [178 170 149]\n",
            "   ...\n",
            "   [195 184 169]\n",
            "   [196 189 171]\n",
            "   [195 190 171]]]\n",
            "\n",
            "\n",
            " [[[229 229 239]\n",
            "   [236 237 247]\n",
            "   [234 236 247]\n",
            "   ...\n",
            "   [217 219 233]\n",
            "   [221 223 234]\n",
            "   [222 223 233]]\n",
            "\n",
            "  [[222 221 229]\n",
            "   [239 239 249]\n",
            "   [233 234 246]\n",
            "   ...\n",
            "   [223 223 236]\n",
            "   [227 228 238]\n",
            "   [210 211 220]]\n",
            "\n",
            "  [[213 206 211]\n",
            "   [234 232 239]\n",
            "   [231 233 244]\n",
            "   ...\n",
            "   [220 220 232]\n",
            "   [220 219 232]\n",
            "   [202 203 215]]\n",
            "\n",
            "  ...\n",
            "\n",
            "  [[150 143 135]\n",
            "   [140 135 127]\n",
            "   [132 127 120]\n",
            "   ...\n",
            "   [224 222 218]\n",
            "   [230 228 225]\n",
            "   [241 241 238]]\n",
            "\n",
            "  [[137 132 126]\n",
            "   [130 127 120]\n",
            "   [125 121 115]\n",
            "   ...\n",
            "   [181 180 178]\n",
            "   [202 201 198]\n",
            "   [212 211 207]]\n",
            "\n",
            "  [[122 119 114]\n",
            "   [118 116 110]\n",
            "   [120 116 111]\n",
            "   ...\n",
            "   [179 177 173]\n",
            "   [164 164 162]\n",
            "   [163 163 161]]]]\n"
          ]
        }
      ]
    },
    {
      "cell_type": "code",
      "source": [
        "X_test = X_test"
      ],
      "metadata": {
        "id": "Kg1O0i9eedqQ"
      },
      "execution_count": null,
      "outputs": []
    },
    {
      "cell_type": "code",
      "source": [
        "num_classes = 10"
      ],
      "metadata": {
        "id": "pgUAdeQfehty"
      },
      "execution_count": null,
      "outputs": []
    },
    {
      "cell_type": "code",
      "source": [
        "import keras"
      ],
      "metadata": {
        "id": "ApMcvc70ejfD"
      },
      "execution_count": null,
      "outputs": []
    },
    {
      "cell_type": "code",
      "source": [
        "y_train = keras.utils.to_categorical(y_train, num_classes)"
      ],
      "metadata": {
        "id": "5_u4akh9erIb"
      },
      "execution_count": null,
      "outputs": []
    },
    {
      "cell_type": "code",
      "source": [
        "y_test = keras.utils.to_categorical(y_test, num_classes)"
      ],
      "metadata": {
        "id": "eZxXNpk9exDu"
      },
      "execution_count": null,
      "outputs": []
    },
    {
      "cell_type": "code",
      "source": [
        "from keras.models import Sequential"
      ],
      "metadata": {
        "id": "lNZNV-noe2d8"
      },
      "execution_count": null,
      "outputs": []
    },
    {
      "cell_type": "code",
      "source": [
        "from keras.layers import Dense, Dropout, Flatten"
      ],
      "metadata": {
        "id": "BZax_BKce8hj"
      },
      "execution_count": null,
      "outputs": []
    },
    {
      "cell_type": "code",
      "source": [
        "from keras.layers import Conv2D"
      ],
      "metadata": {
        "id": "QU5K7hZbfSgq"
      },
      "execution_count": null,
      "outputs": []
    },
    {
      "cell_type": "code",
      "source": [
        "from keras.layers import MaxPooling2D"
      ],
      "metadata": {
        "id": "5vWd22-rfrp7"
      },
      "execution_count": null,
      "outputs": []
    },
    {
      "cell_type": "code",
      "source": [
        "model = Sequential()"
      ],
      "metadata": {
        "id": "_OiAOWv9fx7y"
      },
      "execution_count": null,
      "outputs": []
    },
    {
      "cell_type": "code",
      "source": [
        "model.add(Conv2D(32, (3, 3), padding='same', activation='relu', input_shape=X_train.shape[1:]))"
      ],
      "metadata": {
        "id": "7K4Oob1df0Cm"
      },
      "execution_count": null,
      "outputs": []
    },
    {
      "cell_type": "code",
      "source": [
        "model.add(Dropout(0.2))"
      ],
      "metadata": {
        "id": "FdmOFvF-f_Hn"
      },
      "execution_count": null,
      "outputs": []
    },
    {
      "cell_type": "code",
      "source": [
        "model.add(Conv2D(64, (3, 3), padding='same', activation='relu'))"
      ],
      "metadata": {
        "id": "zAEbKJYMgDSn"
      },
      "execution_count": null,
      "outputs": []
    },
    {
      "cell_type": "code",
      "source": [
        "model.add(Flatten())"
      ],
      "metadata": {
        "id": "_kGMiPHLgKH8"
      },
      "execution_count": null,
      "outputs": []
    },
    {
      "cell_type": "code",
      "source": [
        "model.add(Dense(num_classes, activation='softmax'))"
      ],
      "metadata": {
        "id": "E8wjDuABgNmu"
      },
      "execution_count": null,
      "outputs": []
    },
    {
      "cell_type": "code",
      "source": [
        "model.compile(loss='categorical_crossentropy', optimizer='adam', metrics=['accuracy'])"
      ],
      "metadata": {
        "id": "uLjHtenggTFw"
      },
      "execution_count": null,
      "outputs": []
    },
    {
      "cell_type": "code",
      "source": [
        "epochs = 10"
      ],
      "metadata": {
        "id": "k9-g8GArgapB"
      },
      "execution_count": null,
      "outputs": []
    },
    {
      "cell_type": "code",
      "source": [
        "batch_size = 64"
      ],
      "metadata": {
        "id": "yciZ_Bo-gdPs"
      },
      "execution_count": null,
      "outputs": []
    },
    {
      "cell_type": "code",
      "source": [
        "history = model.fit(X_train, y_train, epochs, batch_size, validation_data=(X_test, y_test), verbose=1)"
      ],
      "metadata": {
        "colab": {
          "base_uri": "https://localhost:8080/"
        },
        "id": "O_7fOFEvge5t",
        "outputId": "8e951f70-7363-4626-e5fe-0443deafb48f"
      },
      "execution_count": null,
      "outputs": [
        {
          "output_type": "stream",
          "name": "stdout",
          "text": [
            "Epoch 1/64\n",
            "5000/5000 [==============================] - 24s 4ms/step - loss: 2.9856 - accuracy: 0.2195 - val_loss: 1.9479 - val_accuracy: 0.2985\n",
            "Epoch 2/64\n",
            "5000/5000 [==============================] - 19s 4ms/step - loss: 1.7757 - accuracy: 0.3710 - val_loss: 1.6712 - val_accuracy: 0.4010\n",
            "Epoch 3/64\n",
            "5000/5000 [==============================] - 20s 4ms/step - loss: 1.5367 - accuracy: 0.4646 - val_loss: 1.6341 - val_accuracy: 0.4272\n",
            "Epoch 4/64\n",
            "5000/5000 [==============================] - 19s 4ms/step - loss: 1.4445 - accuracy: 0.5023 - val_loss: 1.6162 - val_accuracy: 0.4405\n",
            "Epoch 5/64\n",
            "5000/5000 [==============================] - 19s 4ms/step - loss: 1.3454 - accuracy: 0.5391 - val_loss: 1.6507 - val_accuracy: 0.4249\n",
            "Epoch 6/64\n",
            "5000/5000 [==============================] - 19s 4ms/step - loss: 1.2970 - accuracy: 0.5529 - val_loss: 1.6882 - val_accuracy: 0.4392\n",
            "Epoch 7/64\n",
            "5000/5000 [==============================] - 19s 4ms/step - loss: 1.2281 - accuracy: 0.5806 - val_loss: 1.7685 - val_accuracy: 0.4007\n",
            "Epoch 8/64\n",
            "5000/5000 [==============================] - 18s 4ms/step - loss: 1.1755 - accuracy: 0.5990 - val_loss: 1.8541 - val_accuracy: 0.4257\n",
            "Epoch 9/64\n",
            "5000/5000 [==============================] - 19s 4ms/step - loss: 1.1482 - accuracy: 0.6117 - val_loss: 2.0410 - val_accuracy: 0.4500\n",
            "Epoch 10/64\n",
            "5000/5000 [==============================] - 18s 4ms/step - loss: 1.1126 - accuracy: 0.6279 - val_loss: 1.9326 - val_accuracy: 0.4189\n",
            "Epoch 11/64\n",
            "5000/5000 [==============================] - 19s 4ms/step - loss: 1.1051 - accuracy: 0.6295 - val_loss: 2.1887 - val_accuracy: 0.4337\n",
            "Epoch 12/64\n",
            "5000/5000 [==============================] - 20s 4ms/step - loss: 1.0499 - accuracy: 0.6480 - val_loss: 2.2666 - val_accuracy: 0.3949\n",
            "Epoch 13/64\n",
            "5000/5000 [==============================] - 19s 4ms/step - loss: 1.0156 - accuracy: 0.6652 - val_loss: 2.3832 - val_accuracy: 0.4254\n",
            "Epoch 14/64\n",
            "5000/5000 [==============================] - 20s 4ms/step - loss: 0.9955 - accuracy: 0.6719 - val_loss: 2.5184 - val_accuracy: 0.4181\n",
            "Epoch 15/64\n",
            "5000/5000 [==============================] - 19s 4ms/step - loss: 0.9795 - accuracy: 0.6781 - val_loss: 2.4259 - val_accuracy: 0.4031\n",
            "Epoch 16/64\n",
            "5000/5000 [==============================] - 19s 4ms/step - loss: 0.9687 - accuracy: 0.6842 - val_loss: 2.6614 - val_accuracy: 0.4300\n",
            "Epoch 17/64\n",
            "5000/5000 [==============================] - 19s 4ms/step - loss: 0.9739 - accuracy: 0.6858 - val_loss: 3.0878 - val_accuracy: 0.4072\n",
            "Epoch 18/64\n",
            "5000/5000 [==============================] - 19s 4ms/step - loss: 0.9613 - accuracy: 0.6893 - val_loss: 2.8830 - val_accuracy: 0.3423\n",
            "Epoch 19/64\n",
            "5000/5000 [==============================] - 18s 4ms/step - loss: 0.9332 - accuracy: 0.6993 - val_loss: 3.0606 - val_accuracy: 0.4101\n",
            "Epoch 20/64\n",
            "5000/5000 [==============================] - 19s 4ms/step - loss: 0.9487 - accuracy: 0.6971 - val_loss: 3.1288 - val_accuracy: 0.4283\n",
            "Epoch 21/64\n",
            "5000/5000 [==============================] - 18s 4ms/step - loss: 0.9067 - accuracy: 0.7107 - val_loss: 3.3271 - val_accuracy: 0.4257\n",
            "Epoch 22/64\n",
            "5000/5000 [==============================] - 19s 4ms/step - loss: 0.8908 - accuracy: 0.7195 - val_loss: 3.2276 - val_accuracy: 0.4181\n",
            "Epoch 23/64\n",
            "5000/5000 [==============================] - 18s 4ms/step - loss: 0.9087 - accuracy: 0.7134 - val_loss: 3.1086 - val_accuracy: 0.3289\n",
            "Epoch 24/64\n",
            "5000/5000 [==============================] - 19s 4ms/step - loss: 0.8766 - accuracy: 0.7244 - val_loss: 3.4810 - val_accuracy: 0.4135\n",
            "Epoch 25/64\n",
            "5000/5000 [==============================] - 18s 4ms/step - loss: 0.8810 - accuracy: 0.7262 - val_loss: 3.5189 - val_accuracy: 0.4200\n",
            "Epoch 26/64\n",
            "5000/5000 [==============================] - 19s 4ms/step - loss: 0.8707 - accuracy: 0.7252 - val_loss: 3.5895 - val_accuracy: 0.3821\n",
            "Epoch 27/64\n",
            "5000/5000 [==============================] - 19s 4ms/step - loss: 0.8911 - accuracy: 0.7281 - val_loss: 3.6661 - val_accuracy: 0.3492\n",
            "Epoch 28/64\n",
            "5000/5000 [==============================] - 19s 4ms/step - loss: 0.8614 - accuracy: 0.7323 - val_loss: 3.9777 - val_accuracy: 0.3953\n",
            "Epoch 29/64\n",
            "5000/5000 [==============================] - 18s 4ms/step - loss: 0.8791 - accuracy: 0.7346 - val_loss: 3.8254 - val_accuracy: 0.3990\n",
            "Epoch 30/64\n",
            "5000/5000 [==============================] - 18s 4ms/step - loss: 0.8908 - accuracy: 0.7316 - val_loss: 3.9155 - val_accuracy: 0.3822\n",
            "Epoch 31/64\n",
            "5000/5000 [==============================] - 19s 4ms/step - loss: 0.8784 - accuracy: 0.7323 - val_loss: 4.4425 - val_accuracy: 0.4276\n",
            "Epoch 32/64\n",
            "5000/5000 [==============================] - 19s 4ms/step - loss: 0.8726 - accuracy: 0.7334 - val_loss: 4.5364 - val_accuracy: 0.4101\n",
            "Epoch 33/64\n",
            "5000/5000 [==============================] - 20s 4ms/step - loss: 0.8650 - accuracy: 0.7407 - val_loss: 3.8322 - val_accuracy: 0.3994\n",
            "Epoch 34/64\n",
            "5000/5000 [==============================] - 19s 4ms/step - loss: 0.9024 - accuracy: 0.7317 - val_loss: 4.3745 - val_accuracy: 0.3588\n",
            "Epoch 35/64\n",
            "5000/5000 [==============================] - 20s 4ms/step - loss: 0.8941 - accuracy: 0.7334 - val_loss: 4.4674 - val_accuracy: 0.3899\n",
            "Epoch 36/64\n",
            "5000/5000 [==============================] - 19s 4ms/step - loss: 0.8768 - accuracy: 0.7398 - val_loss: 4.5392 - val_accuracy: 0.4039\n",
            "Epoch 37/64\n",
            "5000/5000 [==============================] - 19s 4ms/step - loss: 0.8705 - accuracy: 0.7438 - val_loss: 4.4593 - val_accuracy: 0.3761\n",
            "Epoch 38/64\n",
            "5000/5000 [==============================] - 19s 4ms/step - loss: 0.8661 - accuracy: 0.7484 - val_loss: 4.0812 - val_accuracy: 0.3295\n",
            "Epoch 39/64\n",
            "5000/5000 [==============================] - 19s 4ms/step - loss: 0.8684 - accuracy: 0.7460 - val_loss: 4.6222 - val_accuracy: 0.3383\n",
            "Epoch 40/64\n",
            "5000/5000 [==============================] - 18s 4ms/step - loss: 0.8752 - accuracy: 0.7425 - val_loss: 5.1643 - val_accuracy: 0.3681\n",
            "Epoch 41/64\n",
            "5000/5000 [==============================] - 19s 4ms/step - loss: 0.8594 - accuracy: 0.7474 - val_loss: 4.5433 - val_accuracy: 0.3690\n",
            "Epoch 42/64\n",
            "5000/5000 [==============================] - 19s 4ms/step - loss: 0.8582 - accuracy: 0.7512 - val_loss: 4.7070 - val_accuracy: 0.3382\n",
            "Epoch 43/64\n",
            "5000/5000 [==============================] - 19s 4ms/step - loss: 0.8817 - accuracy: 0.7475 - val_loss: 5.2677 - val_accuracy: 0.3833\n",
            "Epoch 44/64\n",
            "5000/5000 [==============================] - 19s 4ms/step - loss: 0.8865 - accuracy: 0.7487 - val_loss: 4.5626 - val_accuracy: 0.3670\n",
            "Epoch 45/64\n",
            "5000/5000 [==============================] - 19s 4ms/step - loss: 0.8659 - accuracy: 0.7535 - val_loss: 5.3195 - val_accuracy: 0.3730\n",
            "Epoch 46/64\n",
            "5000/5000 [==============================] - 18s 4ms/step - loss: 0.9453 - accuracy: 0.7345 - val_loss: 4.4287 - val_accuracy: 0.3027\n",
            "Epoch 47/64\n",
            "5000/5000 [==============================] - 19s 4ms/step - loss: 0.8596 - accuracy: 0.7505 - val_loss: 5.3002 - val_accuracy: 0.3757\n",
            "Epoch 48/64\n",
            "5000/5000 [==============================] - 19s 4ms/step - loss: 0.8651 - accuracy: 0.7528 - val_loss: 5.3571 - val_accuracy: 0.3906\n",
            "Epoch 49/64\n",
            "5000/5000 [==============================] - 18s 4ms/step - loss: 0.8395 - accuracy: 0.7641 - val_loss: 5.0069 - val_accuracy: 0.3404\n",
            "Epoch 50/64\n",
            "5000/5000 [==============================] - 20s 4ms/step - loss: 0.8387 - accuracy: 0.7634 - val_loss: 5.7928 - val_accuracy: 0.3805\n",
            "Epoch 51/64\n",
            "5000/5000 [==============================] - 20s 4ms/step - loss: 0.8827 - accuracy: 0.7517 - val_loss: 5.6629 - val_accuracy: 0.3558\n",
            "Epoch 52/64\n",
            "5000/5000 [==============================] - 19s 4ms/step - loss: 0.8973 - accuracy: 0.7511 - val_loss: 5.7021 - val_accuracy: 0.3700\n",
            "Epoch 53/64\n",
            "5000/5000 [==============================] - 19s 4ms/step - loss: 0.8556 - accuracy: 0.7615 - val_loss: 5.5281 - val_accuracy: 0.3478\n",
            "Epoch 54/64\n",
            "5000/5000 [==============================] - 19s 4ms/step - loss: 0.8725 - accuracy: 0.7557 - val_loss: 5.7233 - val_accuracy: 0.3707\n",
            "Epoch 55/64\n",
            "5000/5000 [==============================] - 18s 4ms/step - loss: 0.8713 - accuracy: 0.7592 - val_loss: 5.4950 - val_accuracy: 0.3760\n",
            "Epoch 56/64\n",
            "5000/5000 [==============================] - 19s 4ms/step - loss: 0.8783 - accuracy: 0.7566 - val_loss: 5.9698 - val_accuracy: 0.3709\n",
            "Epoch 57/64\n",
            "5000/5000 [==============================] - 19s 4ms/step - loss: 0.8817 - accuracy: 0.7625 - val_loss: 6.2671 - val_accuracy: 0.3939\n",
            "Epoch 58/64\n",
            "5000/5000 [==============================] - 19s 4ms/step - loss: 0.8581 - accuracy: 0.7639 - val_loss: 5.3607 - val_accuracy: 0.3256\n",
            "Epoch 59/64\n",
            "5000/5000 [==============================] - 19s 4ms/step - loss: 0.8748 - accuracy: 0.7615 - val_loss: 6.2960 - val_accuracy: 0.3801\n",
            "Epoch 60/64\n",
            "5000/5000 [==============================] - 20s 4ms/step - loss: 0.8512 - accuracy: 0.7687 - val_loss: 6.3966 - val_accuracy: 0.3316\n",
            "Epoch 61/64\n",
            "5000/5000 [==============================] - 19s 4ms/step - loss: 0.8450 - accuracy: 0.7720 - val_loss: 6.0541 - val_accuracy: 0.3335\n",
            "Epoch 62/64\n",
            "5000/5000 [==============================] - 19s 4ms/step - loss: 0.8935 - accuracy: 0.7624 - val_loss: 6.1746 - val_accuracy: 0.3455\n",
            "Epoch 63/64\n",
            "5000/5000 [==============================] - 19s 4ms/step - loss: 0.8831 - accuracy: 0.7629 - val_loss: 6.9661 - val_accuracy: 0.3346\n",
            "Epoch 64/64\n",
            "5000/5000 [==============================] - 19s 4ms/step - loss: 0.9169 - accuracy: 0.7577 - val_loss: 6.6277 - val_accuracy: 0.3556\n"
          ]
        }
      ]
    },
    {
      "cell_type": "code",
      "source": [
        "history"
      ],
      "metadata": {
        "colab": {
          "base_uri": "https://localhost:8080/"
        },
        "id": "Gv3LHtcpgo-i",
        "outputId": "85003a3c-6159-43a6-b247-08f0e28d4dc4"
      },
      "execution_count": null,
      "outputs": [
        {
          "output_type": "execute_result",
          "data": {
            "text/plain": [
              "<keras.src.callbacks.History at 0x78bc905973d0>"
            ]
          },
          "metadata": {},
          "execution_count": 37
        }
      ]
    },
    {
      "cell_type": "code",
      "source": [
        "model.summary()"
      ],
      "metadata": {
        "colab": {
          "base_uri": "https://localhost:8080/"
        },
        "id": "HgEIhPFRmGQ-",
        "outputId": "f59e10c1-952f-404a-bc9e-1a8da097e418"
      },
      "execution_count": null,
      "outputs": [
        {
          "output_type": "stream",
          "name": "stdout",
          "text": [
            "Model: \"sequential\"\n",
            "_________________________________________________________________\n",
            " Layer (type)                Output Shape              Param #   \n",
            "=================================================================\n",
            " conv2d (Conv2D)             (None, 32, 32, 32)        896       \n",
            "                                                                 \n",
            " dropout (Dropout)           (None, 32, 32, 32)        0         \n",
            "                                                                 \n",
            " conv2d_1 (Conv2D)           (None, 32, 32, 64)        18496     \n",
            "                                                                 \n",
            " flatten (Flatten)           (None, 65536)             0         \n",
            "                                                                 \n",
            " dense (Dense)               (None, 10)                655370    \n",
            "                                                                 \n",
            "=================================================================\n",
            "Total params: 674762 (2.57 MB)\n",
            "Trainable params: 674762 (2.57 MB)\n",
            "Non-trainable params: 0 (0.00 Byte)\n",
            "_________________________________________________________________\n"
          ]
        }
      ]
    },
    {
      "cell_type": "code",
      "source": [
        "import pandas as pd"
      ],
      "metadata": {
        "id": "n-StsCr_0wW8"
      },
      "execution_count": null,
      "outputs": []
    },
    {
      "cell_type": "code",
      "source": [
        "pd.DataFrame(history.history).plot()"
      ],
      "metadata": {
        "colab": {
          "base_uri": "https://localhost:8080/",
          "height": 447
        },
        "id": "dJYCaGb05urL",
        "outputId": "4f292756-c501-47db-97d4-324247f9d803"
      },
      "execution_count": null,
      "outputs": [
        {
          "output_type": "execute_result",
          "data": {
            "text/plain": [
              "<Axes: >"
            ]
          },
          "metadata": {},
          "execution_count": 40
        },
        {
          "output_type": "display_data",
          "data": {
            "text/plain": [
              "<Figure size 640x480 with 1 Axes>"
            ],
            "image/png": "[encoded data removed]"
          },
          "metadata": {}
        }
      ]
    },
    {
      "cell_type": "code",
      "source": [
        "model.save('CNN_cifar10_overfit.h5')"
      ],
      "metadata": {
        "colab": {
          "base_uri": "https://localhost:8080/"
        },
        "id": "GY2gd72q526F",
        "outputId": "9ca978b6-2d1b-44f2-8dfe-ca8aa9af6208"
      },
      "execution_count": null,
      "outputs": [
        {
          "output_type": "stream",
          "name": "stderr",
          "text": [
            "/usr/local/lib/python3.10/dist-packages/keras/src/engine/training.py:3103: UserWarning: You are saving your model as an HDF5 file via `model.save()`. This file format is considered legacy. We recommend using instead the native Keras format, e.g. `model.save('my_model.keras')`.\n",
            "  saving_api.save_model(\n"
          ]
        }
      ]
    },
    {
      "cell_type": "code",
      "source": [
        "model.predict(X_test[0:10])"
      ],
      "metadata": {
        "colab": {
          "base_uri": "https://localhost:8080/"
        },
        "id": "G00Eaii16Z7R",
        "outputId": "823f490e-f7cb-48b3-d6ed-fb812a0007ac"
      },
      "execution_count": null,
      "outputs": [
        {
          "output_type": "stream",
          "name": "stdout",
          "text": [
            "1/1 [==============================] - 0s 119ms/step\n"
          ]
        },
        {
          "output_type": "execute_result",
          "data": {
            "text/plain": [
              "array([[1.22829424e-02, 1.72981845e-06, 1.13788182e-02, 2.75696535e-02,\n",
              "        8.94506574e-02, 1.66723594e-01, 6.79168105e-01, 9.83705278e-03,\n",
              "        3.15333577e-03, 4.34114307e-04],\n",
              "       [0.00000000e+00, 9.99999046e-01, 0.00000000e+00, 4.26857484e-33,\n",
              "        0.00000000e+00, 9.59276348e-21, 3.98098324e-32, 0.00000000e+00,\n",
              "        8.64252958e-15, 9.94040079e-07],\n",
              "       [4.40443784e-01, 1.64346769e-02, 4.09706645e-02, 7.42441863e-02,\n",
              "        1.67145226e-02, 7.66619481e-03, 1.93507131e-02, 3.22555304e-02,\n",
              "        3.33914280e-01, 1.80054568e-02],\n",
              "       [6.08787119e-01, 3.16289719e-04, 3.09546106e-03, 1.97780654e-01,\n",
              "        3.80169675e-02, 7.27118878e-03, 9.38990042e-02, 5.23014533e-05,\n",
              "        5.07463142e-02, 3.47661298e-05],\n",
              "       [4.77412755e-07, 4.40942131e-07, 6.07243383e-05, 1.83401955e-03,\n",
              "        9.35173869e-01, 6.22820817e-02, 6.45389897e-04, 2.03895585e-08,\n",
              "        2.19016283e-06, 8.30905208e-07],\n",
              "       [4.13020207e-05, 8.35313301e-07, 3.01020872e-02, 2.00951938e-02,\n",
              "        1.02566546e-02, 1.79723762e-02, 9.20958221e-01, 4.29329142e-04,\n",
              "        1.64167795e-05, 1.27520427e-04],\n",
              "       [2.67230186e-16, 4.42209241e-10, 5.76326447e-28, 3.62438052e-19,\n",
              "        9.04884191e-30, 2.75121314e-17, 1.12020184e-25, 7.57754827e-20,\n",
              "        5.36051841e-25, 1.00000000e+00],\n",
              "       [8.36658180e-02, 1.47238374e-02, 2.14585677e-01, 9.66566280e-02,\n",
              "        2.92304963e-01, 7.80906528e-02, 8.14624578e-02, 3.01462803e-02,\n",
              "        9.49847549e-02, 1.33789070e-02],\n",
              "       [4.50426684e-04, 1.42607177e-02, 9.62038115e-02, 6.79071248e-01,\n",
              "        1.14629894e-01, 7.41281267e-03, 1.95791312e-02, 6.80007339e-02,\n",
              "        3.90244793e-04, 9.06881269e-07],\n",
              "       [9.60278430e-06, 1.85372759e-04, 4.54757863e-11, 1.58145289e-10,\n",
              "        1.56228681e-13, 5.55069296e-14, 8.61244331e-14, 5.68841535e-15,\n",
              "        9.99803364e-01, 1.60946388e-06]], dtype=float32)"
            ]
          },
          "metadata": {},
          "execution_count": 42
        }
      ]
    },
    {
      "cell_type": "code",
      "source": [
        "model.predict(X_test[0:10])[0]"
      ],
      "metadata": {
        "colab": {
          "base_uri": "https://localhost:8080/"
        },
        "id": "bnG71Mbn6mWP",
        "outputId": "b336a240-b1c1-453b-9ed7-28be2ca2dc91"
      },
      "execution_count": null,
      "outputs": [
        {
          "output_type": "stream",
          "name": "stdout",
          "text": [
            "1/1 [==============================] - 0s 26ms/step\n"
          ]
        },
        {
          "output_type": "execute_result",
          "data": {
            "text/plain": [
              "array([1.2282942e-02, 1.7298185e-06, 1.1378818e-02, 2.7569653e-02,\n",
              "       8.9450657e-02, 1.6672359e-01, 6.7916811e-01, 9.8370528e-03,\n",
              "       3.1533358e-03, 4.3411431e-04], dtype=float32)"
            ]
          },
          "metadata": {},
          "execution_count": 43
        }
      ]
    },
    {
      "cell_type": "code",
      "source": [
        "y_test[0]"
      ],
      "metadata": {
        "colab": {
          "base_uri": "https://localhost:8080/"
        },
        "id": "0H_UZscu6qqM",
        "outputId": "b2f65cf8-eeb4-4d22-c0d6-68af33893593"
      },
      "execution_count": null,
      "outputs": [
        {
          "output_type": "execute_result",
          "data": {
            "text/plain": [
              "array([0., 0., 0., 1., 0., 0., 0., 0., 0., 0.], dtype=float32)"
            ]
          },
          "metadata": {},
          "execution_count": 44
        }
      ]
    },
    {
      "cell_type": "code",
      "source": [
        "labels[3]"
      ],
      "metadata": {
        "colab": {
          "base_uri": "https://localhost:8080/",
          "height": 176
        },
        "id": "wjCanC__6ueg",
        "outputId": "758ad3ae-555a-4b6f-ca51-ccf689a401f5"
      },
      "execution_count": null,
      "outputs": [
        {
          "output_type": "error",
          "ename": "NameError",
          "evalue": "name 'labels' is not defined",
          "traceback": [
            "\u001b[0;31m---------------------------------------------------------------------------\u001b[0m",
            "\u001b[0;31mNameError\u001b[0m                                 Traceback (most recent call last)",
            "\u001b[0;32m<ipython-input-45-9eb6c5796d0b>\u001b[0m in \u001b[0;36m<cell line: 1>\u001b[0;34m()\u001b[0m\n\u001b[0;32m----> 1\u001b[0;31m \u001b[0mlabels\u001b[0m\u001b[0;34m[\u001b[0m\u001b[0;36m3\u001b[0m\u001b[0;34m]\u001b[0m\u001b[0;34m\u001b[0m\u001b[0;34m\u001b[0m\u001b[0m\n\u001b[0m",
            "\u001b[0;31mNameError\u001b[0m: name 'labels' is not defined"
          ]
        }
      ]
    },
    {
      "cell_type": "code",
      "source": [
        "predictions = model.predict(X_test)"
      ],
      "metadata": {
        "colab": {
          "base_uri": "https://localhost:8080/"
        },
        "id": "vAhuY7pJ6wdz",
        "outputId": "6e1204d8-e75d-4b2d-df14-305178030535"
      },
      "execution_count": null,
      "outputs": [
        {
          "output_type": "stream",
          "name": "stdout",
          "text": [
            "313/313 [==============================] - 1s 4ms/step\n"
          ]
        }
      ]
    },
    {
      "cell_type": "code",
      "source": [
        "from sklearn.preprocessing import OneHotEncoder\n"
      ],
      "metadata": {
        "id": "8jjhkvWN7FA2"
      },
      "execution_count": null,
      "outputs": []
    },
    {
      "cell_type": "code",
      "source": [
        "\n"
      ],
      "metadata": {
        "id": "bwFg25c87a_j"
      },
      "execution_count": null,
      "outputs": []
    },
    {
      "cell_type": "code",
      "source": [
        "from sklearn.metrics import confusion_matrix\n"
      ],
      "metadata": {
        "id": "sGImLwjM7kUY"
      },
      "execution_count": null,
      "outputs": []
    },
    {
      "cell_type": "code",
      "source": [
        "import numpy as np\n"
      ],
      "metadata": {
        "id": "cKw7KCwA7mZm"
      },
      "execution_count": null,
      "outputs": []
    },
    {
      "cell_type": "code",
      "source": [
        "pip install np_utils"
      ],
      "metadata": {
        "colab": {
          "base_uri": "https://localhost:8080/"
        },
        "id": "JIbGSw9G8690",
        "outputId": "1e05323a-9ae4-4f03-8445-d840467d57dc"
      },
      "execution_count": null,
      "outputs": [
        {
          "output_type": "stream",
          "name": "stdout",
          "text": [
            "Collecting np_utils\n",
            "  Downloading np_utils-0.6.0.tar.gz (61 kB)\n",
            "\u001b[2K     \u001b[90m━━━━━━━━━━━━━━━━━━━━━━━━━━━━━━━━━━━━━━━━\u001b[0m \u001b[32m62.0/62.0 kB\u001b[0m \u001b[31m561.4 kB/s\u001b[0m eta \u001b[36m0:00:00\u001b[0m\n",
            "\u001b[?25h  Preparing metadata (setup.py) ... \u001b[?25l\u001b[?25hdone\n",
            "Requirement already satisfied: numpy>=1.0 in /usr/local/lib/python3.10/dist-packages (from np_utils) (1.23.5)\n",
            "Building wheels for collected packages: np_utils\n",
            "  Building wheel for np_utils (setup.py) ... \u001b[?25l\u001b[?25hdone\n",
            "  Created wheel for np_utils: filename=np_utils-0.6.0-py3-none-any.whl size=56439 sha256=f92fa8fa48d6488118bef75361a1af3a7b9c0ec1493559566b6e068f3dd0e580\n",
            "  Stored in directory: /root/.cache/pip/wheels/b6/c7/50/2307607f44366dd021209f660045f8d51cb976514d30be7cc7\n",
            "Successfully built np_utils\n",
            "Installing collected packages: np_utils\n",
            "Successfully installed np_utils-0.6.0\n"
          ]
        }
      ]
    },
    {
      "cell_type": "code",
      "source": [
        "import seaborn as sns; sns.set()\n",
        "import matplotlib.pyplot as plt\n",
        "\n",
        "from keras.utils import to_categorical\n",
        "predictions = model.predict(X_test)\n",
        "\n",
        "labels = ['airplane', 'automobile', 'bird', 'cat', 'deer', 'dog', 'frog', 'horse', 'ship', 'truck']\n",
        "\n",
        "predictions = np.argmax(predictions, axis=1)\n",
        "\n",
        "y_train = to_categorical(y_train)\n",
        "y_test = to_categorical(y_test)\n",
        "\n",
        "y_test = np.argmax(y_test, axis=1)  # Uncomment this line\n",
        "\n",
        "# Creating confusion matrix\n",
        "cm = confusion_matrix(y_test, predictions)\n",
        "\n",
        "plt.figure(figsize=(9, 9))\n",
        "sns.heatmap(cm, cbar=False, xticklabels=labels, yticklabels=labels, fmt='d', annot=True, cmap=plt.cm.Blues)\n",
        "plt.xlabel('Predicted')\n",
        "plt.ylabel('Actual')\n",
        "plt.show()\n"
      ],
      "metadata": {
        "colab": {
          "base_uri": "https://localhost:8080/",
          "height": 770
        },
        "id": "aYMhnbv47qjr",
        "outputId": "b185a7ef-51e4-4fe1-ae09-049b5df3e832"
      },
      "execution_count": null,
      "outputs": [
        {
          "output_type": "stream",
          "name": "stdout",
          "text": [
            "313/313 [==============================] - 2s 5ms/step\n"
          ]
        },
        {
          "output_type": "display_data",
          "data": {
            "text/plain": [
              "<Figure size 900x900 with 1 Axes>"
            ],
            "image/png": "[encoded data removed]"
          },
          "metadata": {}
        }
      ]
    },
    {
      "cell_type": "code",
      "source": [],
      "metadata": {
        "id": "y7PjM9Jm7xYv"
      },
      "execution_count": null,
      "outputs": []
    }
  ]
}